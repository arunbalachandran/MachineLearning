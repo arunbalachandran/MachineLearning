{
 "cells": [
  {
   "cell_type": "markdown",
   "metadata": {},
   "source": [
    "## This notebook is contains an implementation of a simple feed forward neural network."
   ]
  },
  {
   "cell_type": "code",
   "execution_count": 48,
   "metadata": {
    "collapsed": false
   },
   "outputs": [
    {
     "name": "stdout",
     "output_type": "stream",
     "text": [
      "[[ 67.59258979]\n",
      " [ 64.6335136 ]\n",
      " [ 66.61412688]]\n"
     ]
    }
   ],
   "source": [
    "import numpy as np\n",
    "\n",
    "class NeuralNetwork():\n",
    "\n",
    "    def __init__(self, input_layer_size, output_layer_size):            \n",
    "        # define hyperparameters\n",
    "        self.input_layer_size = input_layer_size\n",
    "        self.output_layer_size = output_layer_size\n",
    "        self.num_hidden_layer_nodes = 3    # can be arbitrary\n",
    "        self.w1 = np.random.random((self.input_layer_size, self.num_hidden_layer_nodes))\n",
    "        self.w2 = np.random.random((self.num_hidden_layer_nodes, self.output_layer_size))\n",
    "\n",
    "    def sigmoid(self, x):\n",
    "        return (1/(1+np.exp(-x)))\n",
    "        \n",
    "    # this neural net doesn't train itself and has random weights assigned\n",
    "    def predict(self, input_data):\n",
    "        # initialize the weights layer to be the size of the number of features vs number of hidden layer nodes        \n",
    "        z2 = np.dot(input_data, self.w1)\n",
    "        # apply the activation function on the activity of our second layer\n",
    "        a2 = self.sigmoid(z2)\n",
    "        # initialize weights layer to be the size of the number of features vs \n",
    "        z3 = np.dot(a2, self.w2)\n",
    "        # once again the activation function\n",
    "        y_hat = self.sigmoid(z3)\n",
    "        return y_hat\n",
    "        \n",
    "        \n",
    "# the first feature is the number of hours slept and the second feature is the number of hours studied\n",
    "X = np.array([[3, 5], [5, 1], [10, 2]])\n",
    "# the output is the scores which are apparently correlated to the number of hours slept and studied\n",
    "Y = np.array([[75], [82], [93]])\n",
    "# normalize each feature by dividing each feature by the max value of that feature possible (from data)\n",
    "X = X/np.amax(X, axis=0)\n",
    "# this is not required as the code is independent of Y\n",
    "Y = Y/100.0\n",
    "\n",
    "# initialize the neural network with the input and output layer size\n",
    "y_hat = NeuralNetwork(X.shape[1], Y.shape[1])\n",
    "# the predicted value from the neural network\n",
    "print (y_hat.predict(X)*100)"
   ]
  }
 ],
 "metadata": {
  "kernelspec": {
   "display_name": "Python [conda root]",
   "language": "python",
   "name": "conda-root-py"
  },
  "language_info": {
   "codemirror_mode": {
    "name": "ipython",
    "version": 3
   },
   "file_extension": ".py",
   "mimetype": "text/x-python",
   "name": "python",
   "nbconvert_exporter": "python",
   "pygments_lexer": "ipython3",
   "version": "3.5.2"
  }
 },
 "nbformat": 4,
 "nbformat_minor": 1
}
